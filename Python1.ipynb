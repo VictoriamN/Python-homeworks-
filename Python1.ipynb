{
 "cells": [
  {
   "cell_type": "code",
   "execution_count": 1,
   "metadata": {},
   "outputs": [
    {
     "data": {
      "text/plain": [
       "True"
      ]
     },
     "execution_count": 1,
     "metadata": {},
     "output_type": "execute_result"
    }
   ],
   "source": [
    "#Задание 1\n",
    "phrase_1 = 'Насколько проще было бы писать программы, если бы не заказчики'\n",
    "phrase_2 = '640Кб должно хватить для любых задач. Билл Гейтс (по легенде)'\n",
    "phrase_1 > phrase_2"
   ]
  },
  {
   "cell_type": "code",
   "execution_count": 2,
   "metadata": {},
   "outputs": [
    {
     "data": {
      "text/plain": [
       "True"
      ]
     },
     "execution_count": 2,
     "metadata": {},
     "output_type": "execute_result"
    }
   ],
   "source": [
    "phrase_1 = '640Кб должно хватить для любых задач. Билл Гейтс (по легенде)'\n",
    "phrase_2 = 'Насколько проще было бы писать программы, если бы не заказчики'\n",
    "phrase_1 < phrase_2"
   ]
  },
  {
   "cell_type": "code",
   "execution_count": 3,
   "metadata": {},
   "outputs": [
    {
     "data": {
      "text/plain": [
       "True"
      ]
     },
     "execution_count": 3,
     "metadata": {},
     "output_type": "execute_result"
    }
   ],
   "source": [
    "phrase_1 = 'Насколько проще было бы писать программы, если бы не заказчики'\n",
    "phrase_2 = 'Насколько проще было бы писать программы, если бы не заказчики'\n",
    "phrase_1 == phrase_2"
   ]
  },
  {
   "cell_type": "code",
   "execution_count": 13,
   "metadata": {},
   "outputs": [
    {
     "name": "stdout",
     "output_type": "stream",
     "text": [
      "Високосный год\n"
     ]
    }
   ],
   "source": [
    "#Задание 2\n",
    "year = 2020\n",
    "if year == 2020:\n",
    "    print('Високосный год')"
   ]
  },
  {
   "cell_type": "code",
   "execution_count": 14,
   "metadata": {},
   "outputs": [
    {
     "name": "stdout",
     "output_type": "stream",
     "text": [
      "Обычный год\n"
     ]
    }
   ],
   "source": [
    "year = 2019\n",
    "if year == 2019:\n",
    "    print('Обычный год')"
   ]
  },
  {
   "cell_type": "code",
   "execution_count": 17,
   "metadata": {},
   "outputs": [
    {
     "name": "stdout",
     "output_type": "stream",
     "text": [
      "Ваш знак зодиака: Дева\n"
     ]
    }
   ],
   "source": [
    "#Задание 3\n",
    "your_day = 30\n",
    "your_month = 'august'\n",
    "if your_day ==30 and your_month == 'august':\n",
    "    print('Ваш знак зодиака: Дева')"
   ]
  },
  {
   "cell_type": "code",
   "execution_count": 18,
   "metadata": {},
   "outputs": [
    {
     "name": "stdout",
     "output_type": "stream",
     "text": [
      "Ваш знак зодиака: Скорпион\n"
     ]
    }
   ],
   "source": [
    "your_day = 29\n",
    "your_month = 'октябрь'\n",
    "if your_day ==29 and your_month == 'октябрь':\n",
    "    print('Ваш знак зодиака: Скорпион')"
   ]
  },
  {
   "cell_type": "code",
   "execution_count": 30,
   "metadata": {},
   "outputs": [
    {
     "name": "stdout",
     "output_type": "stream",
     "text": [
      "Ваш знак зодиака: Овен\n"
     ]
    }
   ],
   "source": [
    "your_day = 20 \n",
    "your_month = 'april'\n",
    "if your_day ==29 and your_month == 'октябрь':\n",
    "    print('Ваш знак зодиака: Скорпион')\n",
    "elif your_day == 20 and your_month == 'april':\n",
    "    print('Ваш знак зодиака: Овен')"
   ]
  },
  {
   "cell_type": "code",
   "execution_count": 1,
   "metadata": {},
   "outputs": [
    {
     "name": "stdout",
     "output_type": "stream",
     "text": [
      "Стандартная коробка №3\n",
      "Конец программы\n"
     ]
    }
   ],
   "source": [
    "#Задание 4\n",
    "width = 15\n",
    "length = 50\n",
    "height = 15\n",
    "if width<15 and length<15 and height<15:\n",
    "    print('Коробка №1')\n",
    "elif width<15 and length>15 and height<50:\n",
    "    print('Коробка №2')\n",
    "elif width<15 and length>200 and height<50:\n",
    "    print('Упаковка для лыж')\n",
    "else:\n",
    "    print('Стандартная коробка №3')\n",
    "print('Конец программы')"
   ]
  },
  {
   "cell_type": "code",
   "execution_count": null,
   "metadata": {},
   "outputs": [],
   "source": [
    "#Задание 5"
   ]
  },
  {
   "cell_type": "code",
   "execution_count": 2,
   "metadata": {},
   "outputs": [
    {
     "name": "stdout",
     "output_type": "stream",
     "text": [
      "Обычный\n"
     ]
    }
   ],
   "source": [
    "c = '123456'\n",
    "a = list(c)\n",
    "b = int(a[0])+int(a[1])+int(a[2])\n",
    "c = int(a[3])+int(a[4])+int(a[5])\n",
    "if c == b:\n",
    "  print('Счастливый')\n",
    "else:\n",
    "  print('Обычный')"
   ]
  },
  {
   "cell_type": "code",
   "execution_count": null,
   "metadata": {},
   "outputs": [],
   "source": [
    "#Задание 6"
   ]
  },
  {
   "cell_type": "code",
   "execution_count": 3,
   "metadata": {},
   "outputs": [
    {
     "name": "stdout",
     "output_type": "stream",
     "text": [
      "1-прямоугольник, 2-треугольник, 3-круг1\n",
      "Ширина: 23\n",
      "Высота: 45\n",
      "Площадь: 1035.00\n"
     ]
    }
   ],
   "source": [
    "figure = input(\"1-прямоугольник, 2-треугольник, 3-круг\")\n",
    "\n",
    "if figure == '1':\n",
    "  a = float(input(\"Ширина: \"))\n",
    "  b = float(input(\"Высота: \"))\n",
    "  print(\"Площадь: %.2f\" % (a*b))\n",
    "elif figure == '2':\n",
    "  a = float(input(\"Основание: \"))\n",
    "  h = float(input(\"Высота: \"))\n",
    "  print(\"Площадь: %.2f\" % (0.5 * a * h))\n",
    "elif figure == '3':\n",
    "  r = float(input(\"Радиус: \"))\n",
    "  print(\"Площадь: %.2f\" % (3.14 * r**2))\n",
    "else:\n",
    "  print(\"Ошибка\")\n"
   ]
  }
 ],
 "metadata": {
  "kernelspec": {
   "display_name": "Python 3",
   "language": "python",
   "name": "python3"
  },
  "language_info": {
   "codemirror_mode": {
    "name": "ipython",
    "version": 3
   },
   "file_extension": ".py",
   "mimetype": "text/x-python",
   "name": "python",
   "nbconvert_exporter": "python",
   "pygments_lexer": "ipython3",
   "version": "3.8.5"
  }
 },
 "nbformat": 4,
 "nbformat_minor": 4
}
