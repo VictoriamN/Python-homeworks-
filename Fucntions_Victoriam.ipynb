{
 "cells": [
  {
   "cell_type": "markdown",
   "metadata": {},
   "source": [
    "## Домашнее задание к лекции \"Функции\""
   ]
  },
  {
   "cell_type": "code",
   "execution_count": 1,
   "metadata": {},
   "outputs": [],
   "source": [
    "documents = [\n",
    " {'type': 'passport', 'number': '2207 876234', 'name': 'Василий Гупкин'},\n",
    " {'type': 'invoice', 'number': '11-2', 'name': 'Геннадий Покемонов'},\n",
    " {'type': 'insurance', 'number': '10006', 'name': 'Аристарх Павлов'}\n",
    "]\n",
    "\n",
    "directories = {\n",
    " '1': ['2207 876234', '11-2'],\n",
    " '2': ['10006'],\n",
    " '3': []\n",
    "}"
   ]
  },
  {
   "cell_type": "code",
   "execution_count": 2,
   "metadata": {},
   "outputs": [],
   "source": [
    "def find_owner(doc_number):\n",
    "    owner = None\n",
    "    for d in documents:\n",
    "        if d['number'] == doc_number:\n",
    "            owner = d['name']\n",
    "            break\n",
    "    return owner\n",
    "\n",
    "def get_owner():\n",
    "    doc_number = input('Введите номер документа: ')\n",
    "    owner = find_owner(doc_number)\n",
    "    if owner:\n",
    "        print(f'Владелец документа:{owner}')\n",
    "    else:\n",
    "        print('Документ не найден в базе')\n",
    "    return owner\n",
    "\n",
    "def find_dir(doc_number):\n",
    "    directory = None\n",
    "    for d, doc_list in directories.items():\n",
    "        if doc_number in doc_list:\n",
    "            directory = d\n",
    "            break\n",
    "    return directory\n",
    "\n",
    "def get_directory():\n",
    "    doc_number = input('Введите номер документа: ')\n",
    "    directory = find_dir(doc_number)\n",
    "    if directory:\n",
    "        print(f'Документ хранится на полке: {directory}')\n",
    "    else:\n",
    "        print('Документ не найден в базе')\n",
    "    return directory\n",
    "\n",
    "def show_data():\n",
    "    #doc_number = input('Введите номер документа: ')\n",
    "    for d in documents:        \n",
    "        doc_number = d['number']\n",
    "        directory = find_dir(doc_number)\n",
    "        doc_type = d['type']\n",
    "        owner = find_owner(doc_number)\n",
    "        output = f'№: {doc_number}, тип: {doc_type}, владелец: {owner}, полка хранения: {directory}'\n",
    "        print(output)\n",
    "\n",
    "def get_dir_list():\n",
    "    return ', '.join(directories.keys())\n",
    "\n",
    "def add_directory():\n",
    "    directory_to_add = input('Введите номер полки:')\n",
    "    if directory_to_add in directories.keys():\n",
    "        print(f'Такая полка уже существует. Текущий перечень полок: {get_dir_list()}.')\n",
    "    else:\n",
    "        directories[directory_to_add] = []\n",
    "        print(f'Полка добавлена. Текущий перечень полок: {get_dir_list()}.')\n",
    "        \n",
    "def delete_directory():\n",
    "    \n",
    "    directory_to_del = input('Введите номер полки:')\n",
    "    \n",
    "    if directory_to_del in directories.keys():\n",
    "        if directories[directory_to_del]:\n",
    "            print(f'На полке есть документа, удалите их перед удалением полки. Текущий перечень полок: {get_dir_list()}')\n",
    "        else:\n",
    "            directories.pop(directory_to_del)\n",
    "            print(f'Полка удалена. Текущий перечень полок: {get_dir_list()}.')\n",
    "    else:\n",
    "        print(f'Такой полки не существует. Текущий перечень полок: {get_dir_list()}')"
   ]
  },
  {
   "cell_type": "code",
   "execution_count": null,
   "metadata": {},
   "outputs": [
    {
     "name": "stdout",
     "output_type": "stream",
     "text": [
      "Введите команду:l\n",
      "№: 2207 876234, тип: passport, владелец: Василий Гупкин, полка хранения: 1\n",
      "№: 11-2, тип: invoice, владелец: Геннадий Покемонов, полка хранения: 1\n",
      "№: 10006, тип: insurance, владелец: Аристарх Павлов, полка хранения: 2\n",
      "Введите команду:p\n",
      "Введите номер документа: 10006\n",
      "Владелец документа:Аристарх Павлов\n"
     ]
    }
   ],
   "source": [
    "def main():\n",
    "    while True:\n",
    "        command = input('Введите команду:')\n",
    "        if command == 'p':\n",
    "            owner = get_owner()\n",
    "        elif command == 's':\n",
    "            directory = get_directory()\n",
    "        elif command == 'l':\n",
    "            directory = show_data()\n",
    "        elif command == 'ads':\n",
    "            add_directory()\n",
    "        elif command == 'ds':\n",
    "            delete_directory()\n",
    "        elif command == 'q':\n",
    "            break\n",
    "\n",
    "if __name__ == '__main__':\n",
    "    main()"
   ]
  }
 ],
 "metadata": {
  "kernelspec": {
   "display_name": "Python 3",
   "language": "python",
   "name": "python3"
  },
  "language_info": {
   "codemirror_mode": {
    "name": "ipython",
    "version": 3
   },
   "file_extension": ".py",
   "mimetype": "text/x-python",
   "name": "python",
   "nbconvert_exporter": "python",
   "pygments_lexer": "ipython3",
   "version": "3.8.5"
  }
 },
 "nbformat": 4,
 "nbformat_minor": 4
}
