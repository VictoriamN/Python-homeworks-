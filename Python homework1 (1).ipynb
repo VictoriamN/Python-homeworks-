{
 "cells": [
  {
   "cell_type": "markdown",
   "metadata": {},
   "source": [
    "### Внесены корректировки в Задание 1"
   ]
  },
  {
   "cell_type": "code",
   "execution_count": 7,
   "metadata": {},
   "outputs": [
    {
     "name": "stdout",
     "output_type": "stream",
     "text": [
      "TRUE\n"
     ]
    }
   ],
   "source": [
    "phrase_1 = 'Насколько проще было бы писать программы, если бы не заказчики'\n",
    "phrase_2 = '640Кб должно хватить для любых задач. Билл Гейтс (по легенде)'\n",
    "\n",
    "if len(phrase_1) > len(phrase_2):\n",
    "    print(\"TRUE\")\n",
    "elif len(phrase_1) < len(phrase_2):\n",
    "    print(\"TRUE\")\n",
    "elif len(phrase_1) == len(phrase_2):\n",
    "    print(\"FALSE\")"
   ]
  },
  {
   "cell_type": "markdown",
   "metadata": {},
   "source": [
    "### Внесены правки в Задание 2"
   ]
  },
  {
   "cell_type": "code",
   "execution_count": 13,
   "metadata": {
    "scrolled": true
   },
   "outputs": [
    {
     "name": "stdout",
     "output_type": "stream",
     "text": [
      "8986\n",
      "Високосный год\n"
     ]
    }
   ],
   "source": [
    "year = int(input())\n",
    "if year // 4:\n",
    "    print('Високосный год')\n",
    "else:\n",
    "    print('Обычный год')"
   ]
  },
  {
   "cell_type": "markdown",
   "metadata": {},
   "source": [
    "### Внесены корректировки в Задание 3"
   ]
  },
  {
   "cell_type": "code",
   "execution_count": 28,
   "metadata": {
    "scrolled": true
   },
   "outputs": [
    {
     "name": "stdout",
     "output_type": "stream",
     "text": [
      "30 \n",
      "august\n",
      "Ваш знак зодиака: Лев\n"
     ]
    }
   ],
   "source": [
    "your_day = int(input())\n",
    "your_month = str(input())\n",
    "\n",
    "if your_day == 30 and your_month == 'august':\n",
    "    print('Ваш знак зодиака: Лев')\n",
    "if your_day == 29 and your_month == 'октябрь':\n",
    "    print('Ваш знак зодиака: Скорпион')\n",
    "if your_day == 14 and your_month == 'сентябрь':\n",
    "    print('Ваш знак зодиака: Дева')\n",
    "elif your_day == 20 and your_month == 'april':\n",
    "    print('Ваш знак зодиака: Овен')"
   ]
  },
  {
   "cell_type": "markdown",
   "metadata": {},
   "source": [
    "### Корректировки в задании 4"
   ]
  },
  {
   "cell_type": "code",
   "execution_count": 29,
   "metadata": {},
   "outputs": [
    {
     "name": "stdout",
     "output_type": "stream",
     "text": [
      "15\n",
      "15\n",
      "15\n",
      "Коробка№1\n"
     ]
    }
   ],
   "source": [
    "width = int(input())\n",
    "length = int(input())\n",
    "height = int(input())\n",
    "if width > 200 or length > 200 or height > 200:\n",
    "    print('Упаковка для лыж')\n",
    "elif width <= 15 and length <= 15 and height <= 15:\n",
    "    print('Коробка№1')\n",
    "elif 15 < width <= 50 or 15 < length <= 50  or 15 < height <= 50:\n",
    "    print('Коробка№2')\n",
    "else:\n",
    "    print('Коробка№3')"
   ]
  },
  {
   "cell_type": "code",
   "execution_count": null,
   "metadata": {},
   "outputs": [],
   "source": [
    "#Задание 5"
   ]
  },
  {
   "cell_type": "code",
   "execution_count": 2,
   "metadata": {},
   "outputs": [
    {
     "name": "stdout",
     "output_type": "stream",
     "text": [
      "Обычный\n"
     ]
    }
   ],
   "source": [
    "c = '123456'\n",
    "a = list(c)\n",
    "b = int(a[0])+int(a[1])+int(a[2])\n",
    "c = int(a[3])+int(a[4])+int(a[5])\n",
    "if c == b:\n",
    "  print('Счастливый')\n",
    "else:\n",
    "  print('Обычный')"
   ]
  },
  {
   "cell_type": "code",
   "execution_count": null,
   "metadata": {},
   "outputs": [],
   "source": [
    "#Задание 6"
   ]
  },
  {
   "cell_type": "code",
   "execution_count": 3,
   "metadata": {},
   "outputs": [
    {
     "name": "stdout",
     "output_type": "stream",
     "text": [
      "1-прямоугольник, 2-треугольник, 3-круг1\n",
      "Ширина: 23\n",
      "Высота: 45\n",
      "Площадь: 1035.00\n"
     ]
    }
   ],
   "source": [
    "figure = input(\"1-прямоугольник, 2-треугольник, 3-круг\")\n",
    "\n",
    "if figure == '1':\n",
    "  a = float(input(\"Ширина: \"))\n",
    "  b = float(input(\"Высота: \"))\n",
    "  print(\"Площадь: %.2f\" % (a*b))\n",
    "elif figure == '2':\n",
    "  a = float(input(\"Основание: \"))\n",
    "  h = float(input(\"Высота: \"))\n",
    "  print(\"Площадь: %.2f\" % (0.5 * a * h))\n",
    "elif figure == '3':\n",
    "  r = float(input(\"Радиус: \"))\n",
    "  print(\"Площадь: %.2f\" % (3.14 * r**2))\n",
    "else:\n",
    "  print(\"Ошибка\")\n"
   ]
  }
 ],
 "metadata": {
  "kernelspec": {
   "display_name": "Python 3",
   "language": "python",
   "name": "python3"
  },
  "language_info": {
   "codemirror_mode": {
    "name": "ipython",
    "version": 3
   },
   "file_extension": ".py",
   "mimetype": "text/x-python",
   "name": "python",
   "nbconvert_exporter": "python",
   "pygments_lexer": "ipython3",
   "version": "3.8.5"
  }
 },
 "nbformat": 4,
 "nbformat_minor": 4
}
